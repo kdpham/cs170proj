{
 "cells": [
  {
   "cell_type": "code",
   "execution_count": 9,
   "metadata": {
    "colab": {
     "base_uri": "https://localhost:8080/"
    },
    "id": "JjX0CQInezfa",
    "outputId": "9d87efd8-af20-4240-87cd-a4a38b0c0db1"
   },
   "outputs": [
    {
     "name": "stdout",
     "output_type": "stream",
     "text": [
      "Requirement already satisfied: docplex in /home/khoa/anaconda3/lib/python3.8/site-packages (2.18.200)\r\n",
      "Requirement already satisfied: six in /home/khoa/anaconda3/lib/python3.8/site-packages (from docplex) (1.15.0)\r\n",
      "Requirement already satisfied: requests in /home/khoa/anaconda3/lib/python3.8/site-packages (from docplex) (2.24.0)\r\n",
      "Requirement already satisfied: urllib3!=1.25.0,!=1.25.1,<1.26,>=1.21.1 in /home/khoa/anaconda3/lib/python3.8/site-packages (from requests->docplex) (1.25.10)\r\n",
      "Requirement already satisfied: idna<3,>=2.5 in /home/khoa/anaconda3/lib/python3.8/site-packages (from requests->docplex) (2.10)\r\n",
      "Requirement already satisfied: chardet<4,>=3.0.2 in /home/khoa/anaconda3/lib/python3.8/site-packages (from requests->docplex) (3.0.4)\r\n",
      "Requirement already satisfied: certifi>=2017.4.17 in /home/khoa/anaconda3/lib/python3.8/site-packages (from requests->docplex) (2020.6.20)\r\n"
     ]
    }
   ],
   "source": [
    "!pip install docplex\n",
    "import docplex.mp\n",
    "\n",
    "from docplex.mp.model import Model"
   ]
  },
  {
   "cell_type": "code",
   "execution_count": 52,
   "metadata": {
    "id": "FZRfHwG6fULN"
   },
   "outputs": [],
   "source": [
    "model = Model(name='cs170')\n",
    "\n",
    "file = open('10.in', 'r').read().split()\n",
    "\n",
    "size = int(file[0])\n",
    "\n",
    "stress_max = float(file[1])\n",
    "\n",
    "stress = {}    \n",
    "happiness = {}\n",
    "\n",
    "\n",
    "for i in range(2, len(file)):\n",
    "    if i % 4 == 2:\n",
    "        first = int(file[i])\n",
    "        second = int(file[i+1])\n",
    "        happiness[(first, second)] = float(file[i+2])\n",
    "        stress[(first, second)] = float(file[i+3])\n",
    "        \n",
    "# x_roomi, person1, person2 --> binary variables\n",
    "x = {(room, person1, person2): model.binary_var(name='x_{0}_{1}_{2}'.format(room, person1, person2)) for room in range(size) for (person1, person2) in happiness}\n",
    "\n",
    "\n",
    "\n",
    "stress_rooms = {room: model.continuous_var(name = 'stress_{0}'.format(room)) for room in range(size)}\n",
    "happiness_rooms = {room: model.continuous_var(name = 'happiness_{0}'.format(room)) for room in range(size)}\n",
    "room_is_filled = {room: model.binary_var(name = 'filled_{0}'.format(room)) for room in range(size)}\n",
    "k = model.integer_var(name = 'k')\n",
    "\n",
    "# number of rooms filled = k\n",
    "model.add_constraint(k == model.sum(room_is_filled[i] for i in range(size)))\n",
    "\n",
    "# R_i constraints\n",
    "for i in range(size):\n",
    "    for (j, k) in happiness:\n",
    "        model.add_constraint(room_is_filled[i] >= x[(i, j, k)])\n",
    "\n",
    "    \n",
    "        \n",
    "for i in range(size):\n",
    "    model.add_constraint(k * stress_rooms[i] <= stress_max, 'quad')\n",
    "\n",
    "# happiness and stress\n",
    "\n",
    "for i in range(size):\n",
    "    for (j, k) in happiness:\n",
    "        model.add_constraint(happiness_rooms[i] == model.sum(x[(i, j, k)]*happiness[(j, k)]))\n",
    "        model.add_constraint(stress_rooms[i] == model.sum(x[(i, j, k)]*stress[(j, k)]))\n",
    "\n",
    "# only 1 pair in a room\n",
    "\n",
    "for (j, k) in happiness:\n",
    "    model.add_constraint(model.sum(x[(i, j, k)] for i in range(size)) <= 1)\n",
    "\n",
    "    \n",
    "model.maximize(model.sum(happiness_rooms[i] for i in range(size)))"
   ]
  },
  {
   "cell_type": "code",
   "execution_count": 53,
   "metadata": {},
   "outputs": [
    {
     "name": "stdout",
     "output_type": "stream",
     "text": [
      "Model: cs170\n",
      " - number of variables: 481\n",
      "   - binary=460, integer=1, continuous=20\n",
      " - number of constraints: 1406\n",
      "   - linear=1406\n",
      " - parameters: defaults\n",
      " - objective: maximize\n"
     ]
    }
   ],
   "source": [
    "model.print_information()\n",
    "\n"
   ]
  },
  {
   "cell_type": "code",
   "execution_count": 54,
   "metadata": {},
   "outputs": [
    {
     "ename": "DOcplexException",
     "evalue": "Cannot solve model: no CPLEX runtime found.",
     "output_type": "error",
     "traceback": [
      "\u001b[0;31m---------------------------------------------------------------------------\u001b[0m",
      "\u001b[0;31mDOcplexException\u001b[0m                          Traceback (most recent call last)",
      "\u001b[0;32m<ipython-input-54-c9648f091456>\u001b[0m in \u001b[0;36m<module>\u001b[0;34m\u001b[0m\n\u001b[0;32m----> 1\u001b[0;31m \u001b[0msolution\u001b[0m \u001b[0;34m=\u001b[0m \u001b[0mmodel\u001b[0m\u001b[0;34m.\u001b[0m\u001b[0msolve\u001b[0m\u001b[0;34m(\u001b[0m\u001b[0;34m)\u001b[0m\u001b[0;34m\u001b[0m\u001b[0;34m\u001b[0m\u001b[0m\n\u001b[0m\u001b[1;32m      2\u001b[0m \u001b[0;32massert\u001b[0m \u001b[0msolution\u001b[0m\u001b[0;34m\u001b[0m\u001b[0;34m\u001b[0m\u001b[0m\n\u001b[1;32m      3\u001b[0m \u001b[0msolution\u001b[0m\u001b[0;34m.\u001b[0m\u001b[0mdisplay\u001b[0m\u001b[0;34m(\u001b[0m\u001b[0;34m)\u001b[0m\u001b[0;34m\u001b[0m\u001b[0;34m\u001b[0m\u001b[0m\n",
      "\u001b[0;32m~/anaconda3/lib/python3.8/site-packages/docplex/mp/model.py\u001b[0m in \u001b[0;36msolve\u001b[0;34m(self, **kwargs)\u001b[0m\n\u001b[1;32m   4347\u001b[0m             \u001b[0;32melse\u001b[0m\u001b[0;34m:\u001b[0m\u001b[0;34m\u001b[0m\u001b[0;34m\u001b[0m\u001b[0m\n\u001b[1;32m   4348\u001b[0m                 \u001b[0;31m# no way to solve.. really\u001b[0m\u001b[0;34m\u001b[0m\u001b[0;34m\u001b[0m\u001b[0;34m\u001b[0m\u001b[0m\n\u001b[0;32m-> 4349\u001b[0;31m                 \u001b[0;32mreturn\u001b[0m \u001b[0mself\u001b[0m\u001b[0;34m.\u001b[0m\u001b[0mfatal\u001b[0m\u001b[0;34m(\u001b[0m\u001b[0;34m\"Cannot solve model: no CPLEX runtime found.\"\u001b[0m\u001b[0;34m)\u001b[0m\u001b[0;34m\u001b[0m\u001b[0;34m\u001b[0m\u001b[0m\n\u001b[0m\u001b[1;32m   4350\u001b[0m \u001b[0;34m\u001b[0m\u001b[0m\n\u001b[1;32m   4351\u001b[0m \u001b[0;34m\u001b[0m\u001b[0m\n",
      "\u001b[0;32m~/anaconda3/lib/python3.8/site-packages/docplex/mp/model.py\u001b[0m in \u001b[0;36mfatal\u001b[0;34m(self, msg, *args)\u001b[0m\n\u001b[1;32m    941\u001b[0m \u001b[0;34m\u001b[0m\u001b[0m\n\u001b[1;32m    942\u001b[0m     \u001b[0;32mdef\u001b[0m \u001b[0mfatal\u001b[0m\u001b[0;34m(\u001b[0m\u001b[0mself\u001b[0m\u001b[0;34m,\u001b[0m \u001b[0mmsg\u001b[0m\u001b[0;34m,\u001b[0m \u001b[0;34m*\u001b[0m\u001b[0margs\u001b[0m\u001b[0;34m)\u001b[0m\u001b[0;34m:\u001b[0m\u001b[0;34m\u001b[0m\u001b[0;34m\u001b[0m\u001b[0m\n\u001b[0;32m--> 943\u001b[0;31m         \u001b[0mself\u001b[0m\u001b[0;34m.\u001b[0m\u001b[0m_error_handler\u001b[0m\u001b[0;34m.\u001b[0m\u001b[0mfatal\u001b[0m\u001b[0;34m(\u001b[0m\u001b[0mmsg\u001b[0m\u001b[0;34m,\u001b[0m \u001b[0margs\u001b[0m\u001b[0;34m)\u001b[0m\u001b[0;34m\u001b[0m\u001b[0;34m\u001b[0m\u001b[0m\n\u001b[0m\u001b[1;32m    944\u001b[0m \u001b[0;34m\u001b[0m\u001b[0m\n\u001b[1;32m    945\u001b[0m     \u001b[0;32mdef\u001b[0m \u001b[0mfatal_ce_limits\u001b[0m\u001b[0;34m(\u001b[0m\u001b[0mself\u001b[0m\u001b[0;34m,\u001b[0m \u001b[0;34m*\u001b[0m\u001b[0margs\u001b[0m\u001b[0;34m)\u001b[0m\u001b[0;34m:\u001b[0m\u001b[0;34m\u001b[0m\u001b[0;34m\u001b[0m\u001b[0m\n",
      "\u001b[0;32m~/anaconda3/lib/python3.8/site-packages/docplex/mp/error_handler.py\u001b[0m in \u001b[0;36mfatal\u001b[0;34m(self, msg, args)\u001b[0m\n\u001b[1;32m    209\u001b[0m         \u001b[0mresolved_message\u001b[0m \u001b[0;34m=\u001b[0m \u001b[0mresolve_pattern\u001b[0m\u001b[0;34m(\u001b[0m\u001b[0mmsg\u001b[0m\u001b[0;34m,\u001b[0m \u001b[0margs\u001b[0m\u001b[0;34m)\u001b[0m\u001b[0;34m\u001b[0m\u001b[0;34m\u001b[0m\u001b[0m\n\u001b[1;32m    210\u001b[0m         \u001b[0mdocplex_error_stop_here\u001b[0m\u001b[0;34m(\u001b[0m\u001b[0;34m)\u001b[0m\u001b[0;34m\u001b[0m\u001b[0;34m\u001b[0m\u001b[0m\n\u001b[0;32m--> 211\u001b[0;31m         \u001b[0;32mraise\u001b[0m \u001b[0mDOcplexException\u001b[0m\u001b[0;34m(\u001b[0m\u001b[0mresolved_message\u001b[0m\u001b[0;34m)\u001b[0m\u001b[0;34m\u001b[0m\u001b[0;34m\u001b[0m\u001b[0m\n\u001b[0m\u001b[1;32m    212\u001b[0m \u001b[0;34m\u001b[0m\u001b[0m\n\u001b[1;32m    213\u001b[0m     \u001b[0;32mdef\u001b[0m \u001b[0mfatal_limits_exceeded\u001b[0m\u001b[0;34m(\u001b[0m\u001b[0mself\u001b[0m\u001b[0;34m)\u001b[0m\u001b[0;34m:\u001b[0m\u001b[0;34m\u001b[0m\u001b[0;34m\u001b[0m\u001b[0m\n",
      "\u001b[0;31mDOcplexException\u001b[0m: Cannot solve model: no CPLEX runtime found."
     ]
    }
   ],
   "source": [
    "solution = model.solve()\n",
    "assert solution\n",
    "solution.display()"
   ]
  },
  {
   "cell_type": "code",
   "execution_count": null,
   "metadata": {},
   "outputs": [],
   "source": []
  }
 ],
 "metadata": {
  "colab": {
   "collapsed_sections": [],
   "name": "cs170proj.ipynb",
   "provenance": []
  },
  "kernelspec": {
   "display_name": "Python 3",
   "language": "python",
   "name": "python3"
  },
  "language_info": {
   "codemirror_mode": {
    "name": "ipython",
    "version": 3
   },
   "file_extension": ".py",
   "mimetype": "text/x-python",
   "name": "python",
   "nbconvert_exporter": "python",
   "pygments_lexer": "ipython3",
   "version": "3.8.3"
  }
 },
 "nbformat": 4,
 "nbformat_minor": 1
}
