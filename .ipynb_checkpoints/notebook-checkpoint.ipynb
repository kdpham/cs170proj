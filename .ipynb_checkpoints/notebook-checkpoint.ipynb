{
 "cells": [
  {
   "cell_type": "code",
   "execution_count": 1,
   "metadata": {
    "colab": {
     "base_uri": "https://localhost:8080/"
    },
    "id": "JjX0CQInezfa",
    "outputId": "9d87efd8-af20-4240-87cd-a4a38b0c0db1"
   },
   "outputs": [
    {
     "name": "stdout",
     "output_type": "stream",
     "text": [
      "Collecting docplex\n",
      "\u001b[?25l  Downloading https://files.pythonhosted.org/packages/96/34/d6dfbcc4ab93256cefdc9ae5a2811a476a84111a0e377afca49c5d7bc1d8/docplex-2.18.200.tar.gz (603kB)\n",
      "\u001b[K     |████████████████████████████████| 604kB 1.4MB/s eta 0:00:01\n",
      "\u001b[?25hRequirement already satisfied: requests in /anaconda3/lib/python3.7/site-packages (from docplex) (2.22.0)\n",
      "Requirement already satisfied: six in /anaconda3/lib/python3.7/site-packages (from docplex) (1.12.0)\n",
      "Requirement already satisfied: certifi>=2017.4.17 in /anaconda3/lib/python3.7/site-packages (from requests->docplex) (2019.6.16)\n",
      "Requirement already satisfied: idna<2.9,>=2.5 in /anaconda3/lib/python3.7/site-packages (from requests->docplex) (2.8)\n",
      "Requirement already satisfied: chardet<3.1.0,>=3.0.2 in /anaconda3/lib/python3.7/site-packages (from requests->docplex) (3.0.4)\n",
      "Requirement already satisfied: urllib3!=1.25.0,!=1.25.1,<1.26,>=1.21.1 in /anaconda3/lib/python3.7/site-packages (from requests->docplex) (1.24.2)\n",
      "Building wheels for collected packages: docplex\n",
      "  Building wheel for docplex (setup.py) ... \u001b[?25ldone\n",
      "\u001b[?25h  Created wheel for docplex: filename=docplex-2.18.200-cp37-none-any.whl size=667849 sha256=e5c49eea3d93fb1623699e07465c1cbf32d8c3a01fba5705656c4280257468c7\n",
      "  Stored in directory: /Users/kushaltk/Library/Caches/pip/wheels/01/6e/52/b3a8a952188145ae494d19404e53f307542e213de6809d7f9d\n",
      "Successfully built docplex\n",
      "Installing collected packages: docplex\n",
      "Successfully installed docplex-2.18.200\n",
      "\u001b[33mWARNING: You are using pip version 19.3.1; however, version 20.3 is available.\n",
      "You should consider upgrading via the 'pip install --upgrade pip' command.\u001b[0m\n"
     ]
    }
   ],
   "source": [
    "!pip install docplex\n",
    "import docplex.mp\n",
    "\n",
    "from docplex.mp.model import Model"
   ]
  },
  {
   "cell_type": "code",
   "execution_count": 5,
   "metadata": {},
   "outputs": [],
   "source": [
    "import sys\n",
    "try:\n",
    "    import docplex.mp\n",
    "except:\n",
    "    if hasattr(sys, 'real_prefix'):\n",
    "        #we are in a virtual env.\n",
    "        !pip install docplex\n",
    "    else:\n",
    "        !pip install --user docplex"
   ]
  },
  {
   "cell_type": "code",
   "execution_count": null,
   "metadata": {},
   "outputs": [
    {
     "name": "stdout",
     "output_type": "stream",
     "text": [
      "Collecting cplex\n",
      "\u001b[?25l  Downloading https://files.pythonhosted.org/packages/71/9d/dd218dc7c9ec7f0facb9bb92cf0c2fef7cddeb92fc54db4cf169d4dd1095/cplex-12.10.0.3-cp37-cp37m-macosx_10_6_x86_64.whl (28.3MB)\n",
      "\u001b[K     |████████████████████████████████| 28.2MB 1.3MB/s eta 0:00:01"
     ]
    }
   ],
   "source": [
    "!pip install cplex"
   ]
  },
  {
   "cell_type": "code",
   "execution_count": 6,
   "metadata": {
    "id": "FZRfHwG6fULN"
   },
   "outputs": [],
   "source": [
    "model = Model(name='cs170')\n",
    "\n",
    "file = open('10.in', 'r').read().split()\n",
    "\n",
    "size = int(file[0])\n",
    "\n",
    "stress_max = float(file[1])\n",
    "\n",
    "stress = {}    \n",
    "happiness = {}\n",
    "\n",
    "\n",
    "for i in range(2, len(file)):\n",
    "    if i % 4 == 2:\n",
    "        first = int(file[i])\n",
    "        second = int(file[i+1])\n",
    "        happiness[(first, second)] = float(file[i+2])\n",
    "        stress[(first, second)] = float(file[i+3])\n",
    "        \n",
    "# x_roomi, person1, person2 --> binary variables\n",
    "x = {(room, person1, person2): model.binary_var(name='x_{0}_{1}_{2}'.format(room, person1, person2)) for room in range(size) for (person1, person2) in happiness}\n",
    "\n",
    "\n",
    "\n",
    "stress_rooms = {room: model.continuous_var(name = 'stress_{0}'.format(room)) for room in range(size)}\n",
    "happiness_rooms = {room: model.continuous_var(name = 'happiness_{0}'.format(room)) for room in range(size)}\n",
    "room_is_filled = {room: model.binary_var(name = 'filled_{0}'.format(room)) for room in range(size)}\n",
    "k = model.integer_var(name = 'k')\n",
    "\n",
    "# number of rooms filled = k\n",
    "model.add_constraint(k == model.sum(room_is_filled[i] for i in range(size)))\n",
    "\n",
    "# R_i constraints\n",
    "for i in range(size):\n",
    "    for (j, k) in happiness:\n",
    "        model.add_constraint(room_is_filled[i] >= x[(i, j, k)])\n",
    "\n",
    "    \n",
    "        \n",
    "for i in range(size):\n",
    "    model.add_constraint(k * stress_rooms[i] <= stress_max, 'quad')\n",
    "\n",
    "# happiness and stress\n",
    "\n",
    "for i in range(size):\n",
    "    for (j, k) in happiness:\n",
    "        model.add_constraint(happiness_rooms[i] == model.sum(x[(i, j, k)]*happiness[(j, k)]))\n",
    "        model.add_constraint(stress_rooms[i] == model.sum(x[(i, j, k)]*stress[(j, k)]))\n",
    "\n",
    "# only 1 pair in a room\n",
    "\n",
    "for (j, k) in happiness:\n",
    "    model.add_constraint(model.sum(x[(i, j, k)] for i in range(size)) <= 1)\n",
    "\n",
    "    \n",
    "model.maximize(model.sum(happiness_rooms[i] for i in range(size)))"
   ]
  },
  {
   "cell_type": "code",
   "execution_count": 7,
   "metadata": {},
   "outputs": [
    {
     "name": "stdout",
     "output_type": "stream",
     "text": [
      "Model: cs170\n",
      " - number of variables: 481\n",
      "   - binary=460, integer=1, continuous=20\n",
      " - number of constraints: 1406\n",
      "   - linear=1406\n",
      " - parameters: defaults\n",
      " - objective: maximize\n"
     ]
    }
   ],
   "source": [
    "model.print_information()\n",
    "\n"
   ]
  },
  {
   "cell_type": "code",
   "execution_count": 8,
   "metadata": {},
   "outputs": [
    {
     "ename": "DOcplexException",
     "evalue": "Cannot solve model: no CPLEX runtime found.",
     "output_type": "error",
     "traceback": [
      "\u001b[0;31m---------------------------------------------------------------------------\u001b[0m",
      "\u001b[0;31mDOcplexException\u001b[0m                          Traceback (most recent call last)",
      "\u001b[0;32m<ipython-input-8-c9648f091456>\u001b[0m in \u001b[0;36m<module>\u001b[0;34m\u001b[0m\n\u001b[0;32m----> 1\u001b[0;31m \u001b[0msolution\u001b[0m \u001b[0;34m=\u001b[0m \u001b[0mmodel\u001b[0m\u001b[0;34m.\u001b[0m\u001b[0msolve\u001b[0m\u001b[0;34m(\u001b[0m\u001b[0;34m)\u001b[0m\u001b[0;34m\u001b[0m\u001b[0;34m\u001b[0m\u001b[0m\n\u001b[0m\u001b[1;32m      2\u001b[0m \u001b[0;32massert\u001b[0m \u001b[0msolution\u001b[0m\u001b[0;34m\u001b[0m\u001b[0;34m\u001b[0m\u001b[0m\n\u001b[1;32m      3\u001b[0m \u001b[0msolution\u001b[0m\u001b[0;34m.\u001b[0m\u001b[0mdisplay\u001b[0m\u001b[0;34m(\u001b[0m\u001b[0;34m)\u001b[0m\u001b[0;34m\u001b[0m\u001b[0;34m\u001b[0m\u001b[0m\n",
      "\u001b[0;32m//anaconda3/lib/python3.7/site-packages/docplex/mp/model.py\u001b[0m in \u001b[0;36msolve\u001b[0;34m(self, **kwargs)\u001b[0m\n\u001b[1;32m   4347\u001b[0m             \u001b[0;32melse\u001b[0m\u001b[0;34m:\u001b[0m\u001b[0;34m\u001b[0m\u001b[0;34m\u001b[0m\u001b[0m\n\u001b[1;32m   4348\u001b[0m                 \u001b[0;31m# no way to solve.. really\u001b[0m\u001b[0;34m\u001b[0m\u001b[0;34m\u001b[0m\u001b[0;34m\u001b[0m\u001b[0m\n\u001b[0;32m-> 4349\u001b[0;31m                 \u001b[0;32mreturn\u001b[0m \u001b[0mself\u001b[0m\u001b[0;34m.\u001b[0m\u001b[0mfatal\u001b[0m\u001b[0;34m(\u001b[0m\u001b[0;34m\"Cannot solve model: no CPLEX runtime found.\"\u001b[0m\u001b[0;34m)\u001b[0m\u001b[0;34m\u001b[0m\u001b[0;34m\u001b[0m\u001b[0m\n\u001b[0m\u001b[1;32m   4350\u001b[0m \u001b[0;34m\u001b[0m\u001b[0m\n\u001b[1;32m   4351\u001b[0m \u001b[0;34m\u001b[0m\u001b[0m\n",
      "\u001b[0;32m//anaconda3/lib/python3.7/site-packages/docplex/mp/model.py\u001b[0m in \u001b[0;36mfatal\u001b[0;34m(self, msg, *args)\u001b[0m\n\u001b[1;32m    941\u001b[0m \u001b[0;34m\u001b[0m\u001b[0m\n\u001b[1;32m    942\u001b[0m     \u001b[0;32mdef\u001b[0m \u001b[0mfatal\u001b[0m\u001b[0;34m(\u001b[0m\u001b[0mself\u001b[0m\u001b[0;34m,\u001b[0m \u001b[0mmsg\u001b[0m\u001b[0;34m,\u001b[0m \u001b[0;34m*\u001b[0m\u001b[0margs\u001b[0m\u001b[0;34m)\u001b[0m\u001b[0;34m:\u001b[0m\u001b[0;34m\u001b[0m\u001b[0;34m\u001b[0m\u001b[0m\n\u001b[0;32m--> 943\u001b[0;31m         \u001b[0mself\u001b[0m\u001b[0;34m.\u001b[0m\u001b[0m_error_handler\u001b[0m\u001b[0;34m.\u001b[0m\u001b[0mfatal\u001b[0m\u001b[0;34m(\u001b[0m\u001b[0mmsg\u001b[0m\u001b[0;34m,\u001b[0m \u001b[0margs\u001b[0m\u001b[0;34m)\u001b[0m\u001b[0;34m\u001b[0m\u001b[0;34m\u001b[0m\u001b[0m\n\u001b[0m\u001b[1;32m    944\u001b[0m \u001b[0;34m\u001b[0m\u001b[0m\n\u001b[1;32m    945\u001b[0m     \u001b[0;32mdef\u001b[0m \u001b[0mfatal_ce_limits\u001b[0m\u001b[0;34m(\u001b[0m\u001b[0mself\u001b[0m\u001b[0;34m,\u001b[0m \u001b[0;34m*\u001b[0m\u001b[0margs\u001b[0m\u001b[0;34m)\u001b[0m\u001b[0;34m:\u001b[0m\u001b[0;34m\u001b[0m\u001b[0;34m\u001b[0m\u001b[0m\n",
      "\u001b[0;32m//anaconda3/lib/python3.7/site-packages/docplex/mp/error_handler.py\u001b[0m in \u001b[0;36mfatal\u001b[0;34m(self, msg, args)\u001b[0m\n\u001b[1;32m    209\u001b[0m         \u001b[0mresolved_message\u001b[0m \u001b[0;34m=\u001b[0m \u001b[0mresolve_pattern\u001b[0m\u001b[0;34m(\u001b[0m\u001b[0mmsg\u001b[0m\u001b[0;34m,\u001b[0m \u001b[0margs\u001b[0m\u001b[0;34m)\u001b[0m\u001b[0;34m\u001b[0m\u001b[0;34m\u001b[0m\u001b[0m\n\u001b[1;32m    210\u001b[0m         \u001b[0mdocplex_error_stop_here\u001b[0m\u001b[0;34m(\u001b[0m\u001b[0;34m)\u001b[0m\u001b[0;34m\u001b[0m\u001b[0;34m\u001b[0m\u001b[0m\n\u001b[0;32m--> 211\u001b[0;31m         \u001b[0;32mraise\u001b[0m \u001b[0mDOcplexException\u001b[0m\u001b[0;34m(\u001b[0m\u001b[0mresolved_message\u001b[0m\u001b[0;34m)\u001b[0m\u001b[0;34m\u001b[0m\u001b[0;34m\u001b[0m\u001b[0m\n\u001b[0m\u001b[1;32m    212\u001b[0m \u001b[0;34m\u001b[0m\u001b[0m\n\u001b[1;32m    213\u001b[0m     \u001b[0;32mdef\u001b[0m \u001b[0mfatal_limits_exceeded\u001b[0m\u001b[0;34m(\u001b[0m\u001b[0mself\u001b[0m\u001b[0;34m)\u001b[0m\u001b[0;34m:\u001b[0m\u001b[0;34m\u001b[0m\u001b[0;34m\u001b[0m\u001b[0m\n",
      "\u001b[0;31mDOcplexException\u001b[0m: Cannot solve model: no CPLEX runtime found."
     ]
    }
   ],
   "source": [
    "solution = model.solve()\n",
    "assert solution\n",
    "solution.display()"
   ]
  },
  {
   "cell_type": "code",
   "execution_count": null,
   "metadata": {},
   "outputs": [],
   "source": []
  }
 ],
 "metadata": {
  "colab": {
   "collapsed_sections": [],
   "name": "cs170proj.ipynb",
   "provenance": []
  },
  "kernelspec": {
   "display_name": "Python 3",
   "language": "python",
   "name": "python3"
  },
  "language_info": {
   "codemirror_mode": {
    "name": "ipython",
    "version": 3
   },
   "file_extension": ".py",
   "mimetype": "text/x-python",
   "name": "python",
   "nbconvert_exporter": "python",
   "pygments_lexer": "ipython3",
   "version": "3.7.3"
  }
 },
 "nbformat": 4,
 "nbformat_minor": 1
}
