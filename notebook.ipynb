{
 "cells": [
  {
   "cell_type": "code",
   "execution_count": null,
   "metadata": {},
   "outputs": [],
   "source": []
  },
  {
   "cell_type": "code",
   "execution_count": 5,
   "metadata": {
    "colab": {
     "base_uri": "https://localhost:8080/"
    },
    "id": "JjX0CQInezfa",
    "outputId": "9d87efd8-af20-4240-87cd-a4a38b0c0db1"
   },
   "outputs": [
    {
     "name": "stdout",
     "output_type": "stream",
     "text": [
      "Requirement already satisfied: docplex in /home/khoa/anaconda3/lib/python3.7/site-packages (2.18.200)\r\n",
      "Requirement already satisfied: six in /home/khoa/anaconda3/lib/python3.7/site-packages (from docplex) (1.15.0)\r\n",
      "Requirement already satisfied: requests in /home/khoa/anaconda3/lib/python3.7/site-packages (from docplex) (2.24.0)\r\n",
      "Requirement already satisfied: chardet<4,>=3.0.2 in /home/khoa/anaconda3/lib/python3.7/site-packages (from requests->docplex) (3.0.4)\r\n",
      "Requirement already satisfied: certifi>=2017.4.17 in /home/khoa/anaconda3/lib/python3.7/site-packages (from requests->docplex) (2020.11.8)\r\n",
      "Requirement already satisfied: urllib3!=1.25.0,!=1.25.1,<1.26,>=1.21.1 in /home/khoa/anaconda3/lib/python3.7/site-packages (from requests->docplex) (1.25.10)\r\n",
      "Requirement already satisfied: idna<3,>=2.5 in /home/khoa/anaconda3/lib/python3.7/site-packages (from requests->docplex) (2.10)\r\n"
     ]
    }
   ],
   "source": [
    "!pip install docplex\n",
    "import docplex.mp\n",
    "import sys\n",
    "import docplex.cp\n",
    "from docplex.cp.model import *\n",
    "from docplex.mp.model import *"
   ]
  },
  {
   "cell_type": "code",
   "execution_count": 8,
   "metadata": {
    "id": "FZRfHwG6fULN"
   },
   "outputs": [
    {
     "name": "stdout",
     "output_type": "stream",
     "text": [
      "Model: cs170\n",
      " - number of variables: 510\n",
      "   - binary=500, integer=0, continuous=10\n",
      " - number of constraints: 925\n",
      "   - linear=925\n",
      " - parameters: defaults\n",
      " - objective: maximize\n",
      " - problem type is: MILP\n"
     ]
    }
   ],
   "source": [
    "import docplex.mp\n",
    "import sys\n",
    "import docplex.cp\n",
    "from docplex.cp.model import *\n",
    "from docplex.mp.model import *\n",
    "\n",
    "model = Model(name='cs170')\n",
    "\n",
    "file = open('10.in', 'r').read().split()\n",
    "\n",
    "size = int(file[0])\n",
    "\n",
    "stress_max = float(file[1])\n",
    "\n",
    "stress = {}\n",
    "happiness = {}\n",
    "\n",
    "#fix k\n",
    "k = 5\n",
    "\n",
    "for i in range(2, len(file)):\n",
    "    if i % 4 == 2:\n",
    "        first = int(file[i])\n",
    "        second = int(file[i+1])\n",
    "        happiness[(first, second)] = float(file[i+2])\n",
    "        stress[(first, second)] = float(file[i+3])\n",
    "\n",
    "# x_roomi, person1, person2 --> binary variables\n",
    "\n",
    "\n",
    "# x_i, j = room i has person j in it\n",
    "x = {(room, person): model.binary_var(name='x_{0}_{1}'.format(room, person)) for room in range(k) for person in range(size)}\n",
    "#x = {(room, person1, person2): model.binary_var(name='x_{0}_{1}_{2}'.format(room, person1, person2)) for room in range(size) for (person1, person2) in happiness}\n",
    "\n",
    "# y_i, j, k   = room i has pair (j, k) in it\n",
    "y = {(room, person1, person2): model.binary_var(name='y_{0}_{1}_{2}'.format(room, person1, person2)) for room in range(k) for (person1, person2) in happiness}\n",
    "\n",
    "#aux_y = same thing\n",
    "aux_y = {(room, person1, person2): model.binary_var(name='aux_y_{0}_{1}_{2}'.format(room, person1, person2)) for room in range(k) for (person1, person2) in happiness}\n",
    "\n",
    "stress_rooms = {room: model.continuous_var(name = 'stress_{0}'.format(room)) for room in range(k)}\n",
    "happiness_rooms = {room: model.continuous_var(name = 'happiness_{0}'.format(room)) for room in range(k)}\n",
    "\n",
    "\n",
    "\n",
    "# happiness and stress\n",
    "\n",
    "for i in range(k):\n",
    "    for (j,m) in happiness:\n",
    "        model.add_constraint(y[(i,j,m)] <= x[(i,j)])\n",
    "        model.add_constraint(y[(i,j,m)] <= x[(i,m)])\n",
    "        model.add_constraint(y[(i,j,m)] >= x[(i,j)] - 2*aux_y[(i,j,m)])\n",
    "        model.add_constraint(y[(i,j,m)] >= x[(i,m)] - 2*(1-aux_y[(i,j,m)]))\n",
    "\n",
    "for i in range(k):\n",
    "    model.add_constraint(happiness_rooms[i] == model.sum(y[(i,j,m)] * happiness[(j, m)] for (j,m) in happiness))\n",
    "    model.add_constraint(stress_rooms[i] == model.sum(y[(i,j,m)] * stress[(j, m)] for (j,m) in happiness))\n",
    "\n",
    "for i in range(k):\n",
    "    model.add_constraint(k * stress_rooms[i] <= stress_max)\n",
    "\n",
    "# person only in one room\n",
    "\n",
    "for j in range(size):\n",
    "    model.add_constraint(model.sum(x[(i, j)] for i in range(k)) == 1)\n",
    "\n",
    "model.maximize(model.sum(happiness_rooms[i] for i in range(k)))\n",
    "\n",
    "model.print_information()\n"
   ]
  },
  {
   "cell_type": "code",
   "execution_count": 10,
   "metadata": {},
   "outputs": [
    {
     "ename": "AttributeError",
     "evalue": "'NoneType' object has no attribute 'display'",
     "output_type": "error",
     "traceback": [
      "\u001b[0;31m---------------------------------------------------------------------------\u001b[0m",
      "\u001b[0;31mAttributeError\u001b[0m                            Traceback (most recent call last)",
      "\u001b[0;32m<ipython-input-10-096313f763a9>\u001b[0m in \u001b[0;36m<module>\u001b[0;34m\u001b[0m\n\u001b[1;32m      1\u001b[0m \u001b[0msolution\u001b[0m \u001b[0;34m=\u001b[0m \u001b[0mmodel\u001b[0m\u001b[0;34m.\u001b[0m\u001b[0msolve\u001b[0m\u001b[0;34m(\u001b[0m\u001b[0;34m)\u001b[0m\u001b[0;34m\u001b[0m\u001b[0;34m\u001b[0m\u001b[0m\n\u001b[0;32m----> 2\u001b[0;31m \u001b[0msolution\u001b[0m\u001b[0;34m.\u001b[0m\u001b[0mdisplay\u001b[0m\u001b[0;34m(\u001b[0m\u001b[0;34m)\u001b[0m\u001b[0;34m\u001b[0m\u001b[0;34m\u001b[0m\u001b[0m\n\u001b[0m",
      "\u001b[0;31mAttributeError\u001b[0m: 'NoneType' object has no attribute 'display'"
     ]
    }
   ],
   "source": [
    "solution = model.solve()\n",
    "assert solution\n",
    "solution.display()"
   ]
  },
  {
   "cell_type": "code",
   "execution_count": 4,
   "metadata": {},
   "outputs": [
    {
     "name": "stdout",
     "output_type": "stream",
     "text": [
      "solution for: cs170\n",
      "objective: 0.000\n"
     ]
    }
   ],
   "source": []
  },
  {
   "cell_type": "code",
   "execution_count": 1,
   "metadata": {},
   "outputs": [
    {
     "name": "stdout",
     "output_type": "stream",
     "text": [
      "3.7.9\n"
     ]
    }
   ],
   "source": [
    "from platform import python_version\n",
    "\n",
    "print(python_version())\n"
   ]
  },
  {
   "cell_type": "code",
   "execution_count": null,
   "metadata": {},
   "outputs": [],
   "source": []
  }
 ],
 "metadata": {
  "colab": {
   "collapsed_sections": [],
   "name": "cs170proj.ipynb",
   "provenance": []
  },
  "kernelspec": {
   "display_name": "Python 3",
   "language": "python",
   "name": "python3"
  },
  "language_info": {
   "codemirror_mode": {
    "name": "ipython",
    "version": 3
   },
   "file_extension": ".py",
   "mimetype": "text/x-python",
   "name": "python",
   "nbconvert_exporter": "python",
   "pygments_lexer": "ipython3",
   "version": "3.7.9"
  }
 },
 "nbformat": 4,
 "nbformat_minor": 1
}
